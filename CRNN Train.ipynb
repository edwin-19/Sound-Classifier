{
 "cells": [
  {
   "cell_type": "code",
   "execution_count": 3,
   "id": "flexible-journey",
   "metadata": {},
   "outputs": [],
   "source": [
    "import torch\n",
    "import torch.nn as nn\n",
    "import torch.nn.functional as F\n",
    "from torch.utils.data import Dataset, DataLoader, SequentialSampler, RandomSampler\n",
    "import pytorch_lightning as pl\n",
    "from torchmetrics.functional import accuracy, matthews_corrcoef\n",
    "\n",
    "from utils import sound_utils\n",
    "\n",
    "import pandas as pd\n",
    "import numpy as np\n",
    "from sklearn.metrics import classification_report, confusion_matrix"
   ]
  },
  {
   "cell_type": "markdown",
   "id": "extra-relaxation",
   "metadata": {},
   "source": [
    "# Load and prepare dataloader"
   ]
  },
  {
   "cell_type": "code",
   "execution_count": 4,
   "id": "suspended-silence",
   "metadata": {},
   "outputs": [],
   "source": [
    "df = pd.read_csv('data/train_test_split.csv')"
   ]
  },
  {
   "cell_type": "code",
   "execution_count": 8,
   "id": "minus-composer",
   "metadata": {},
   "outputs": [],
   "source": [
    "class WavDataset(Dataset):\n",
    "    def __init__(self):\n",
    "        super(WavDataset, self).__init__()"
   ]
  },
  {
   "cell_type": "markdown",
   "id": "registered-circulation",
   "metadata": {},
   "source": [
    "# Build Model"
   ]
  },
  {
   "cell_type": "code",
   "execution_count": 9,
   "id": "cardiac-shame",
   "metadata": {},
   "outputs": [],
   "source": [
    "class AudioCRNN(pl.LightningModule):\n",
    "    def __init__(self):\n",
    "        super(AudioCRNN, self).__init__()\n",
    "        \n",
    "        self.feautre_extract = nn.Sequential(\n",
    "            nn.Conv2d(2, 32, 3),\n",
    "            nn.BatchNorm2d(32)\n",
    "        )\n",
    "        \n",
    "    def forward(self, x):\n",
    "        return self.feautre_extract(x)\n",
    "    \n",
    "    def training_step(self, batch, batch_idx):\n",
    "        pass\n",
    "    \n",
    "    def configure_optimizers(self):\n",
    "        return torch.optim.Adam(self.parameters(), lr=1e-4, eps=1e-8)"
   ]
  },
  {
   "cell_type": "code",
   "execution_count": 10,
   "id": "swedish-phoenix",
   "metadata": {},
   "outputs": [],
   "source": [
    "model = AudioCRNN()"
   ]
  },
  {
   "cell_type": "code",
   "execution_count": 11,
   "id": "upper-programming",
   "metadata": {},
   "outputs": [
    {
     "name": "stderr",
     "output_type": "stream",
     "text": [
      "\n",
      "  | Name            | Type       | Params\n",
      "-----------------------------------------------\n",
      "0 | feautre_extract | Sequential | 672   \n",
      "-----------------------------------------------\n",
      "672       Trainable params\n",
      "0         Non-trainable params\n",
      "672       Total params\n",
      "0.003     Total estimated model params size (MB)\n"
     ]
    },
    {
     "data": {
      "text/plain": [
       "  | Name            | Type       | Params\n",
       "-----------------------------------------------\n",
       "0 | feautre_extract | Sequential | 672   \n",
       "-----------------------------------------------\n",
       "672       Trainable params\n",
       "0         Non-trainable params\n",
       "672       Total params\n",
       "0.003     Total estimated model params size (MB)"
      ]
     },
     "execution_count": 11,
     "metadata": {},
     "output_type": "execute_result"
    }
   ],
   "source": [
    "model.summarize()"
   ]
  }
 ],
 "metadata": {
  "kernelspec": {
   "display_name": "Python 3",
   "language": "python",
   "name": "python3"
  },
  "language_info": {
   "codemirror_mode": {
    "name": "ipython",
    "version": 3
   },
   "file_extension": ".py",
   "mimetype": "text/x-python",
   "name": "python",
   "nbconvert_exporter": "python",
   "pygments_lexer": "ipython3",
   "version": "3.8.8"
  }
 },
 "nbformat": 4,
 "nbformat_minor": 5
}
