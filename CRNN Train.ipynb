{
 "cells": [
  {
   "cell_type": "code",
   "execution_count": 34,
   "id": "flexible-journey",
   "metadata": {},
   "outputs": [],
   "source": [
    "import torch\n",
    "import torch.nn as nn\n",
    "import torch.nn.functional as F\n",
    "from torch.utils.data import Dataset, DataLoader, SequentialSampler, RandomSampler\n",
    "import pytorch_lightning as pl\n",
    "from torchmetrics import Accuracy\n",
    "from torchsummaryX import summary\n",
    "from utils import sound_utils\n",
    "\n",
    "import os\n",
    "import pandas as pd\n",
    "import numpy as np\n",
    "from matplotlib import pyplot as plt\n",
    "import seaborn as sns\n",
    "from sklearn.metrics import classification_report, confusion_matrix, matthews_corrcoef"
   ]
  },
  {
   "cell_type": "code",
   "execution_count": 2,
   "id": "worldwide-yellow",
   "metadata": {},
   "outputs": [],
   "source": [
    "batch_size = 64\n",
    "epochs = 20\n",
    "learing_rate = 1e-4\n",
    "eps = 1e-8"
   ]
  },
  {
   "cell_type": "markdown",
   "id": "extra-relaxation",
   "metadata": {},
   "source": [
    "# Load and prepare dataloader"
   ]
  },
  {
   "cell_type": "code",
   "execution_count": 3,
   "id": "suspended-silence",
   "metadata": {},
   "outputs": [],
   "source": [
    "df = pd.read_csv('data/train_test_split.csv')"
   ]
  },
  {
   "cell_type": "code",
   "execution_count": 4,
   "id": "minus-composer",
   "metadata": {},
   "outputs": [],
   "source": [
    "class WavDataset(Dataset):\n",
    "    def __init__(self, wave_list):\n",
    "        super(WavDataset, self).__init__()\n",
    "        self.wav_list = wave_list\n",
    "        self.labels_index = {\n",
    "            'cat': 0,\n",
    "            'dog': 1\n",
    "        }\n",
    "        self.data_path = 'data/cats_dogs/'\n",
    "        self.max_ms = 8000\n",
    "        self.audio_utils = sound_utils.SoundUtil()\n",
    "        \n",
    "    def __len__(self):\n",
    "        return len(self.wav_list)\n",
    "    \n",
    "    def __getitem__(self, index):\n",
    "        wav_file = self.wav_list[index]\n",
    "        wav_file_path = os.path.join(self.data_path, wav_file)\n",
    "        \n",
    "        labels = self.labels_index[wav_file[:3]]\n",
    "        \n",
    "        return self.audio_utils.convert_sound(wav_file_path, is_augment=True), labels"
   ]
  },
  {
   "cell_type": "code",
   "execution_count": 5,
   "id": "macro-ceramic",
   "metadata": {},
   "outputs": [],
   "source": [
    "class WavDataModule(pl.LightningDataModule):\n",
    "    def __init__(self, df, batch_size=64):\n",
    "        super(WavDataModule, self).__init__()\n",
    "        self.df = df\n",
    "        self.batch_size = batch_size\n",
    "        \n",
    "    def setup(self, stage=None):\n",
    "        train_cat = self.df['train_cat'].sample(64, random_state=2021).tolist()\n",
    "        train_dog = self.df[~df['train_dog'].isnull()]['train_dog'].tolist()\n",
    "        train_data = np.concatenate([train_cat, train_dog])\n",
    "        self.train_set = WavDataset(train_data)\n",
    "        \n",
    "        test_data = self.df[(~self.df['test_cat'].isnull()) & (~self.df['test_dog'].isnull())][['test_cat', 'test_dog']].values.ravel()\n",
    "        self.test_set = WavDataset(test_data)\n",
    "    \n",
    "    def train_dataloader(self):\n",
    "        sampler = RandomSampler(self.train_set)\n",
    "        data_loader = DataLoader(self.train_set, sampler=sampler, batch_size=self.batch_size)\n",
    "        return data_loader\n",
    "    \n",
    "    def val_dataloader(self):\n",
    "        sampler = SequentialSampler(self.test_set)\n",
    "        data_loader = DataLoader(self.test_set, sampler=sampler, batch_size=self.batch_size)\n",
    "        return data_loader"
   ]
  },
  {
   "cell_type": "code",
   "execution_count": 6,
   "id": "prostate-malpractice",
   "metadata": {},
   "outputs": [],
   "source": [
    "wavdata_module = WavDataModule(df, batch_size)"
   ]
  },
  {
   "cell_type": "markdown",
   "id": "registered-circulation",
   "metadata": {},
   "source": [
    "# Build Model"
   ]
  },
  {
   "cell_type": "code",
   "execution_count": 7,
   "id": "cardiac-shame",
   "metadata": {},
   "outputs": [],
   "source": [
    "class AudioCRNN(pl.LightningModule):\n",
    "    def __init__(self):\n",
    "        super(AudioCRNN, self).__init__()\n",
    "        \n",
    "        self.feautre_extract = nn.Sequential(\n",
    "            nn.Conv2d(2, 32, 3),\n",
    "            nn.BatchNorm2d(32),\n",
    "            nn.ELU(),\n",
    "            nn.MaxPool2d(2, 2),\n",
    "            nn.Dropout(0.1),\n",
    "            \n",
    "            # Second level\n",
    "            nn.Conv2d(32, 64, 3),\n",
    "            nn.BatchNorm2d(64),\n",
    "            nn.ELU(),\n",
    "            nn.MaxPool2d(2, 2),\n",
    "            nn.Dropout(0.1),\n",
    "            \n",
    "            # Third Level\n",
    "            nn.Conv2d(64, 128, 3),\n",
    "            nn.BatchNorm2d(128),\n",
    "            nn.ELU(),\n",
    "            nn.MaxPool2d(2, 2),\n",
    "            nn.Dropout(0.1)\n",
    "        )\n",
    "        \n",
    "        self.recurr = nn.LSTM(128, 64, 2, bidirectional=True, batch_first=True)\n",
    "        self.classifier = nn.Sequential(\n",
    "            nn.Dropout(0.3),\n",
    "            nn.BatchNorm1d(128),\n",
    "            nn.Linear(128, 2)\n",
    "        )\n",
    "        self.loss = nn.CrossEntropyLoss()\n",
    "        self.val_acc = Accuracy()\n",
    "        \n",
    "    def forward(self, x):\n",
    "        x = self.feautre_extract(x)\n",
    "        \n",
    "        x = x.reshape(-1, 6 * 84, 128)\n",
    "        x, _ = self.recurr(x)\n",
    "        x = self.classifier(x[:, -1, :])\n",
    "\n",
    "        return x\n",
    "    \n",
    "    def training_step(self, batch, batch_idx):\n",
    "        spec, labels = batch\n",
    "        logits = self(spec)\n",
    "        return self.loss(logits, labels)\n",
    "    \n",
    "    def validation_step(self, batch, batch_idx):\n",
    "        spec, labels = batch\n",
    "        logits = self(spec)\n",
    "        \n",
    "        val_loss = self.loss(logits, labels)\n",
    "        self.val_acc(logits.argmax(dim=1), labels)\n",
    "        \n",
    "        self.log('val_loss', val_loss, prog_bar=True)\n",
    "        self.log('val_acc', self.val_acc, prog_bar=True)\n",
    "        \n",
    "    def configure_optimizers(self):\n",
    "        return torch.optim.Adam(self.parameters(), lr=1e-4, eps=1e-8)"
   ]
  },
  {
   "cell_type": "code",
   "execution_count": 8,
   "id": "swedish-phoenix",
   "metadata": {},
   "outputs": [],
   "source": [
    "model = AudioCRNN()"
   ]
  },
  {
   "cell_type": "code",
   "execution_count": 9,
   "id": "upper-programming",
   "metadata": {},
   "outputs": [
    {
     "name": "stdout",
     "output_type": "stream",
     "text": [
      "=====================================================================\n",
      "               Kernel Shape       Output Shape    Params    Mult-Adds\n",
      "Layer                                                                \n",
      "0_val_acc     [2, 32, 3, 3]   [2, 32, 62, 686]     608.0   24.498432M\n",
      "1_val_acc              [32]   [2, 32, 62, 686]      64.0         32.0\n",
      "2_val_acc                 -   [2, 32, 62, 686]         -            -\n",
      "3_val_acc                 -   [2, 32, 31, 343]         -            -\n",
      "4_val_acc                 -   [2, 32, 31, 343]         -            -\n",
      "5_val_acc    [32, 64, 3, 3]   [2, 64, 29, 341]   18.496k  182.274048M\n",
      "6_val_acc              [64]   [2, 64, 29, 341]     128.0         64.0\n",
      "7_val_acc                 -   [2, 64, 29, 341]         -            -\n",
      "8_val_acc                 -   [2, 64, 14, 170]         -            -\n",
      "9_val_acc                 -   [2, 64, 14, 170]         -            -\n",
      "10_val_acc  [64, 128, 3, 3]  [2, 128, 12, 168]   73.856k  148.635648M\n",
      "11_val_acc            [128]  [2, 128, 12, 168]     256.0        128.0\n",
      "12_val_acc                -  [2, 128, 12, 168]         -            -\n",
      "13_val_acc                -    [2, 128, 6, 84]         -            -\n",
      "14_val_acc                -    [2, 128, 6, 84]         -            -\n",
      "15_val_acc                -      [2, 504, 128]  198.656k     196.608k\n",
      "16_val_acc                -           [2, 128]         -            -\n",
      "17_val_acc            [128]           [2, 128]     256.0        128.0\n",
      "18_val_acc         [128, 2]             [2, 2]     258.0        256.0\n",
      "---------------------------------------------------------------------\n",
      "                           Totals\n",
      "Total params             292.578k\n",
      "Trainable params         292.578k\n",
      "Non-trainable params          0.0\n",
      "Mult-Adds             355.605344M\n",
      "=====================================================================\n"
     ]
    },
    {
     "data": {
      "text/html": [
       "<div>\n",
       "<style scoped>\n",
       "    .dataframe tbody tr th:only-of-type {\n",
       "        vertical-align: middle;\n",
       "    }\n",
       "\n",
       "    .dataframe tbody tr th {\n",
       "        vertical-align: top;\n",
       "    }\n",
       "\n",
       "    .dataframe thead th {\n",
       "        text-align: right;\n",
       "    }\n",
       "</style>\n",
       "<table border=\"1\" class=\"dataframe\">\n",
       "  <thead>\n",
       "    <tr style=\"text-align: right;\">\n",
       "      <th></th>\n",
       "      <th>Kernel Shape</th>\n",
       "      <th>Output Shape</th>\n",
       "      <th>Params</th>\n",
       "      <th>Mult-Adds</th>\n",
       "    </tr>\n",
       "    <tr>\n",
       "      <th>Layer</th>\n",
       "      <th></th>\n",
       "      <th></th>\n",
       "      <th></th>\n",
       "      <th></th>\n",
       "    </tr>\n",
       "  </thead>\n",
       "  <tbody>\n",
       "    <tr>\n",
       "      <th>0_val_acc</th>\n",
       "      <td>[2, 32, 3, 3]</td>\n",
       "      <td>[2, 32, 62, 686]</td>\n",
       "      <td>608.0</td>\n",
       "      <td>24498432.0</td>\n",
       "    </tr>\n",
       "    <tr>\n",
       "      <th>1_val_acc</th>\n",
       "      <td>[32]</td>\n",
       "      <td>[2, 32, 62, 686]</td>\n",
       "      <td>64.0</td>\n",
       "      <td>32.0</td>\n",
       "    </tr>\n",
       "    <tr>\n",
       "      <th>2_val_acc</th>\n",
       "      <td>-</td>\n",
       "      <td>[2, 32, 62, 686]</td>\n",
       "      <td>NaN</td>\n",
       "      <td>NaN</td>\n",
       "    </tr>\n",
       "    <tr>\n",
       "      <th>3_val_acc</th>\n",
       "      <td>-</td>\n",
       "      <td>[2, 32, 31, 343]</td>\n",
       "      <td>NaN</td>\n",
       "      <td>NaN</td>\n",
       "    </tr>\n",
       "    <tr>\n",
       "      <th>4_val_acc</th>\n",
       "      <td>-</td>\n",
       "      <td>[2, 32, 31, 343]</td>\n",
       "      <td>NaN</td>\n",
       "      <td>NaN</td>\n",
       "    </tr>\n",
       "    <tr>\n",
       "      <th>5_val_acc</th>\n",
       "      <td>[32, 64, 3, 3]</td>\n",
       "      <td>[2, 64, 29, 341]</td>\n",
       "      <td>18496.0</td>\n",
       "      <td>182274048.0</td>\n",
       "    </tr>\n",
       "    <tr>\n",
       "      <th>6_val_acc</th>\n",
       "      <td>[64]</td>\n",
       "      <td>[2, 64, 29, 341]</td>\n",
       "      <td>128.0</td>\n",
       "      <td>64.0</td>\n",
       "    </tr>\n",
       "    <tr>\n",
       "      <th>7_val_acc</th>\n",
       "      <td>-</td>\n",
       "      <td>[2, 64, 29, 341]</td>\n",
       "      <td>NaN</td>\n",
       "      <td>NaN</td>\n",
       "    </tr>\n",
       "    <tr>\n",
       "      <th>8_val_acc</th>\n",
       "      <td>-</td>\n",
       "      <td>[2, 64, 14, 170]</td>\n",
       "      <td>NaN</td>\n",
       "      <td>NaN</td>\n",
       "    </tr>\n",
       "    <tr>\n",
       "      <th>9_val_acc</th>\n",
       "      <td>-</td>\n",
       "      <td>[2, 64, 14, 170]</td>\n",
       "      <td>NaN</td>\n",
       "      <td>NaN</td>\n",
       "    </tr>\n",
       "    <tr>\n",
       "      <th>10_val_acc</th>\n",
       "      <td>[64, 128, 3, 3]</td>\n",
       "      <td>[2, 128, 12, 168]</td>\n",
       "      <td>73856.0</td>\n",
       "      <td>148635648.0</td>\n",
       "    </tr>\n",
       "    <tr>\n",
       "      <th>11_val_acc</th>\n",
       "      <td>[128]</td>\n",
       "      <td>[2, 128, 12, 168]</td>\n",
       "      <td>256.0</td>\n",
       "      <td>128.0</td>\n",
       "    </tr>\n",
       "    <tr>\n",
       "      <th>12_val_acc</th>\n",
       "      <td>-</td>\n",
       "      <td>[2, 128, 12, 168]</td>\n",
       "      <td>NaN</td>\n",
       "      <td>NaN</td>\n",
       "    </tr>\n",
       "    <tr>\n",
       "      <th>13_val_acc</th>\n",
       "      <td>-</td>\n",
       "      <td>[2, 128, 6, 84]</td>\n",
       "      <td>NaN</td>\n",
       "      <td>NaN</td>\n",
       "    </tr>\n",
       "    <tr>\n",
       "      <th>14_val_acc</th>\n",
       "      <td>-</td>\n",
       "      <td>[2, 128, 6, 84]</td>\n",
       "      <td>NaN</td>\n",
       "      <td>NaN</td>\n",
       "    </tr>\n",
       "    <tr>\n",
       "      <th>15_val_acc</th>\n",
       "      <td>-</td>\n",
       "      <td>[2, 504, 128]</td>\n",
       "      <td>198656.0</td>\n",
       "      <td>196608.0</td>\n",
       "    </tr>\n",
       "    <tr>\n",
       "      <th>16_val_acc</th>\n",
       "      <td>-</td>\n",
       "      <td>[2, 128]</td>\n",
       "      <td>NaN</td>\n",
       "      <td>NaN</td>\n",
       "    </tr>\n",
       "    <tr>\n",
       "      <th>17_val_acc</th>\n",
       "      <td>[128]</td>\n",
       "      <td>[2, 128]</td>\n",
       "      <td>256.0</td>\n",
       "      <td>128.0</td>\n",
       "    </tr>\n",
       "    <tr>\n",
       "      <th>18_val_acc</th>\n",
       "      <td>[128, 2]</td>\n",
       "      <td>[2, 2]</td>\n",
       "      <td>258.0</td>\n",
       "      <td>256.0</td>\n",
       "    </tr>\n",
       "  </tbody>\n",
       "</table>\n",
       "</div>"
      ],
      "text/plain": [
       "               Kernel Shape       Output Shape    Params    Mult-Adds\n",
       "Layer                                                                \n",
       "0_val_acc     [2, 32, 3, 3]   [2, 32, 62, 686]     608.0   24498432.0\n",
       "1_val_acc              [32]   [2, 32, 62, 686]      64.0         32.0\n",
       "2_val_acc                 -   [2, 32, 62, 686]       NaN          NaN\n",
       "3_val_acc                 -   [2, 32, 31, 343]       NaN          NaN\n",
       "4_val_acc                 -   [2, 32, 31, 343]       NaN          NaN\n",
       "5_val_acc    [32, 64, 3, 3]   [2, 64, 29, 341]   18496.0  182274048.0\n",
       "6_val_acc              [64]   [2, 64, 29, 341]     128.0         64.0\n",
       "7_val_acc                 -   [2, 64, 29, 341]       NaN          NaN\n",
       "8_val_acc                 -   [2, 64, 14, 170]       NaN          NaN\n",
       "9_val_acc                 -   [2, 64, 14, 170]       NaN          NaN\n",
       "10_val_acc  [64, 128, 3, 3]  [2, 128, 12, 168]   73856.0  148635648.0\n",
       "11_val_acc            [128]  [2, 128, 12, 168]     256.0        128.0\n",
       "12_val_acc                -  [2, 128, 12, 168]       NaN          NaN\n",
       "13_val_acc                -    [2, 128, 6, 84]       NaN          NaN\n",
       "14_val_acc                -    [2, 128, 6, 84]       NaN          NaN\n",
       "15_val_acc                -      [2, 504, 128]  198656.0     196608.0\n",
       "16_val_acc                -           [2, 128]       NaN          NaN\n",
       "17_val_acc            [128]           [2, 128]     256.0        128.0\n",
       "18_val_acc         [128, 2]             [2, 2]     258.0        256.0"
      ]
     },
     "execution_count": 9,
     "metadata": {},
     "output_type": "execute_result"
    }
   ],
   "source": [
    "summary(model, torch.zeros(2, 2, 64, 688))"
   ]
  },
  {
   "cell_type": "markdown",
   "id": "expressed-competition",
   "metadata": {},
   "source": [
    "# Train data"
   ]
  },
  {
   "cell_type": "code",
   "execution_count": 10,
   "id": "apparent-tulsa",
   "metadata": {},
   "outputs": [],
   "source": [
    "early_stopping = pl.callbacks.EarlyStopping(\n",
    "    monitor='val_acc',\n",
    "    min_delta=0.02,\n",
    "    patience=3,\n",
    "    verbose=False,\n",
    "    mode='max'\n",
    ")"
   ]
  },
  {
   "cell_type": "code",
   "execution_count": 11,
   "id": "checked-cause",
   "metadata": {},
   "outputs": [
    {
     "name": "stderr",
     "output_type": "stream",
     "text": [
      "GPU available: True, used: True\n",
      "TPU available: False, using: 0 TPU cores\n"
     ]
    }
   ],
   "source": [
    "trainer = pl.Trainer(\n",
    "    gpus=1, max_epochs=epochs, \n",
    "    progress_bar_refresh_rate=20,\n",
    "#     callbacks=[early_stopping]\n",
    ")"
   ]
  },
  {
   "cell_type": "code",
   "execution_count": 12,
   "id": "passing-webster",
   "metadata": {},
   "outputs": [
    {
     "name": "stderr",
     "output_type": "stream",
     "text": [
      "LOCAL_RANK: 0 - CUDA_VISIBLE_DEVICES: [0]\n",
      "\n",
      "  | Name            | Type             | Params\n",
      "-----------------------------------------------------\n",
      "0 | feautre_extract | Sequential       | 93.4 K\n",
      "1 | recurr          | LSTM             | 198 K \n",
      "2 | classifier      | Sequential       | 514   \n",
      "3 | loss            | CrossEntropyLoss | 0     \n",
      "4 | val_acc         | Accuracy         | 0     \n",
      "-----------------------------------------------------\n",
      "292 K     Trainable params\n",
      "0         Non-trainable params\n",
      "292 K     Total params\n",
      "1.170     Total estimated model params size (MB)\n"
     ]
    },
    {
     "data": {
      "application/vnd.jupyter.widget-view+json": {
       "model_id": "",
       "version_major": 2,
       "version_minor": 0
      },
      "text/plain": [
       "HBox(children=(FloatProgress(value=1.0, bar_style='info', description='Validation sanity check', layout=Layout…"
      ]
     },
     "metadata": {},
     "output_type": "display_data"
    },
    {
     "name": "stderr",
     "output_type": "stream",
     "text": [
      "/home/superceed1/anaconda3/envs/py38torch17/lib/python3.8/site-packages/pytorch_lightning/utilities/distributed.py:69: UserWarning: The dataloader, val dataloader 0, does not have many workers which may be a bottleneck. Consider increasing the value of the `num_workers` argument` (try 6 which is the number of cpus on this machine) in the `DataLoader` init to improve performance.\n",
      "  warnings.warn(*args, **kwargs)\n",
      "/home/superceed1/anaconda3/envs/py38torch17/lib/python3.8/site-packages/torch/functional.py:515: UserWarning: stft will require the return_complex parameter be explicitly  specified in a future PyTorch release. Use return_complex=False  to preserve the current behavior or return_complex=True to return  a complex output. (Triggered internally at  /pytorch/aten/src/ATen/native/SpectralOps.cpp:653.)\n",
      "  return _VF.stft(input, n_fft, hop_length, win_length, window,  # type: ignore\n",
      "/home/superceed1/anaconda3/envs/py38torch17/lib/python3.8/site-packages/torch/functional.py:515: UserWarning: The function torch.rfft is deprecated and will be removed in a future PyTorch release. Use the new torch.fft module functions, instead, by importing torch.fft and calling torch.fft.fft or torch.fft.rfft. (Triggered internally at  /pytorch/aten/src/ATen/native/SpectralOps.cpp:590.)\n",
      "  return _VF.stft(input, n_fft, hop_length, win_length, window,  # type: ignore\n",
      "/home/superceed1/anaconda3/envs/py38torch17/lib/python3.8/site-packages/pytorch_lightning/utilities/distributed.py:69: UserWarning: The dataloader, train dataloader, does not have many workers which may be a bottleneck. Consider increasing the value of the `num_workers` argument` (try 6 which is the number of cpus on this machine) in the `DataLoader` init to improve performance.\n",
      "  warnings.warn(*args, **kwargs)\n"
     ]
    },
    {
     "data": {
      "application/vnd.jupyter.widget-view+json": {
       "model_id": "44f0683b0ee342ca940abdadcac0e9d8",
       "version_major": 2,
       "version_minor": 0
      },
      "text/plain": [
       "HBox(children=(FloatProgress(value=1.0, bar_style='info', description='Training', layout=Layout(flex='2'), max…"
      ]
     },
     "metadata": {},
     "output_type": "display_data"
    },
    {
     "data": {
      "application/vnd.jupyter.widget-view+json": {
       "model_id": "",
       "version_major": 2,
       "version_minor": 0
      },
      "text/plain": [
       "HBox(children=(FloatProgress(value=1.0, bar_style='info', description='Validating', layout=Layout(flex='2'), m…"
      ]
     },
     "metadata": {},
     "output_type": "display_data"
    },
    {
     "data": {
      "application/vnd.jupyter.widget-view+json": {
       "model_id": "",
       "version_major": 2,
       "version_minor": 0
      },
      "text/plain": [
       "HBox(children=(FloatProgress(value=1.0, bar_style='info', description='Validating', layout=Layout(flex='2'), m…"
      ]
     },
     "metadata": {},
     "output_type": "display_data"
    },
    {
     "data": {
      "application/vnd.jupyter.widget-view+json": {
       "model_id": "",
       "version_major": 2,
       "version_minor": 0
      },
      "text/plain": [
       "HBox(children=(FloatProgress(value=1.0, bar_style='info', description='Validating', layout=Layout(flex='2'), m…"
      ]
     },
     "metadata": {},
     "output_type": "display_data"
    },
    {
     "data": {
      "application/vnd.jupyter.widget-view+json": {
       "model_id": "",
       "version_major": 2,
       "version_minor": 0
      },
      "text/plain": [
       "HBox(children=(FloatProgress(value=1.0, bar_style='info', description='Validating', layout=Layout(flex='2'), m…"
      ]
     },
     "metadata": {},
     "output_type": "display_data"
    },
    {
     "data": {
      "application/vnd.jupyter.widget-view+json": {
       "model_id": "",
       "version_major": 2,
       "version_minor": 0
      },
      "text/plain": [
       "HBox(children=(FloatProgress(value=1.0, bar_style='info', description='Validating', layout=Layout(flex='2'), m…"
      ]
     },
     "metadata": {},
     "output_type": "display_data"
    },
    {
     "data": {
      "application/vnd.jupyter.widget-view+json": {
       "model_id": "",
       "version_major": 2,
       "version_minor": 0
      },
      "text/plain": [
       "HBox(children=(FloatProgress(value=1.0, bar_style='info', description='Validating', layout=Layout(flex='2'), m…"
      ]
     },
     "metadata": {},
     "output_type": "display_data"
    },
    {
     "data": {
      "application/vnd.jupyter.widget-view+json": {
       "model_id": "",
       "version_major": 2,
       "version_minor": 0
      },
      "text/plain": [
       "HBox(children=(FloatProgress(value=1.0, bar_style='info', description='Validating', layout=Layout(flex='2'), m…"
      ]
     },
     "metadata": {},
     "output_type": "display_data"
    },
    {
     "data": {
      "application/vnd.jupyter.widget-view+json": {
       "model_id": "",
       "version_major": 2,
       "version_minor": 0
      },
      "text/plain": [
       "HBox(children=(FloatProgress(value=1.0, bar_style='info', description='Validating', layout=Layout(flex='2'), m…"
      ]
     },
     "metadata": {},
     "output_type": "display_data"
    },
    {
     "data": {
      "application/vnd.jupyter.widget-view+json": {
       "model_id": "",
       "version_major": 2,
       "version_minor": 0
      },
      "text/plain": [
       "HBox(children=(FloatProgress(value=1.0, bar_style='info', description='Validating', layout=Layout(flex='2'), m…"
      ]
     },
     "metadata": {},
     "output_type": "display_data"
    },
    {
     "data": {
      "application/vnd.jupyter.widget-view+json": {
       "model_id": "",
       "version_major": 2,
       "version_minor": 0
      },
      "text/plain": [
       "HBox(children=(FloatProgress(value=1.0, bar_style='info', description='Validating', layout=Layout(flex='2'), m…"
      ]
     },
     "metadata": {},
     "output_type": "display_data"
    },
    {
     "data": {
      "application/vnd.jupyter.widget-view+json": {
       "model_id": "",
       "version_major": 2,
       "version_minor": 0
      },
      "text/plain": [
       "HBox(children=(FloatProgress(value=1.0, bar_style='info', description='Validating', layout=Layout(flex='2'), m…"
      ]
     },
     "metadata": {},
     "output_type": "display_data"
    },
    {
     "data": {
      "application/vnd.jupyter.widget-view+json": {
       "model_id": "",
       "version_major": 2,
       "version_minor": 0
      },
      "text/plain": [
       "HBox(children=(FloatProgress(value=1.0, bar_style='info', description='Validating', layout=Layout(flex='2'), m…"
      ]
     },
     "metadata": {},
     "output_type": "display_data"
    },
    {
     "data": {
      "application/vnd.jupyter.widget-view+json": {
       "model_id": "",
       "version_major": 2,
       "version_minor": 0
      },
      "text/plain": [
       "HBox(children=(FloatProgress(value=1.0, bar_style='info', description='Validating', layout=Layout(flex='2'), m…"
      ]
     },
     "metadata": {},
     "output_type": "display_data"
    },
    {
     "data": {
      "application/vnd.jupyter.widget-view+json": {
       "model_id": "",
       "version_major": 2,
       "version_minor": 0
      },
      "text/plain": [
       "HBox(children=(FloatProgress(value=1.0, bar_style='info', description='Validating', layout=Layout(flex='2'), m…"
      ]
     },
     "metadata": {},
     "output_type": "display_data"
    },
    {
     "data": {
      "application/vnd.jupyter.widget-view+json": {
       "model_id": "",
       "version_major": 2,
       "version_minor": 0
      },
      "text/plain": [
       "HBox(children=(FloatProgress(value=1.0, bar_style='info', description='Validating', layout=Layout(flex='2'), m…"
      ]
     },
     "metadata": {},
     "output_type": "display_data"
    },
    {
     "data": {
      "application/vnd.jupyter.widget-view+json": {
       "model_id": "",
       "version_major": 2,
       "version_minor": 0
      },
      "text/plain": [
       "HBox(children=(FloatProgress(value=1.0, bar_style='info', description='Validating', layout=Layout(flex='2'), m…"
      ]
     },
     "metadata": {},
     "output_type": "display_data"
    },
    {
     "data": {
      "application/vnd.jupyter.widget-view+json": {
       "model_id": "",
       "version_major": 2,
       "version_minor": 0
      },
      "text/plain": [
       "HBox(children=(FloatProgress(value=1.0, bar_style='info', description='Validating', layout=Layout(flex='2'), m…"
      ]
     },
     "metadata": {},
     "output_type": "display_data"
    },
    {
     "data": {
      "application/vnd.jupyter.widget-view+json": {
       "model_id": "",
       "version_major": 2,
       "version_minor": 0
      },
      "text/plain": [
       "HBox(children=(FloatProgress(value=1.0, bar_style='info', description='Validating', layout=Layout(flex='2'), m…"
      ]
     },
     "metadata": {},
     "output_type": "display_data"
    },
    {
     "data": {
      "application/vnd.jupyter.widget-view+json": {
       "model_id": "",
       "version_major": 2,
       "version_minor": 0
      },
      "text/plain": [
       "HBox(children=(FloatProgress(value=1.0, bar_style='info', description='Validating', layout=Layout(flex='2'), m…"
      ]
     },
     "metadata": {},
     "output_type": "display_data"
    },
    {
     "data": {
      "application/vnd.jupyter.widget-view+json": {
       "model_id": "",
       "version_major": 2,
       "version_minor": 0
      },
      "text/plain": [
       "HBox(children=(FloatProgress(value=1.0, bar_style='info', description='Validating', layout=Layout(flex='2'), m…"
      ]
     },
     "metadata": {},
     "output_type": "display_data"
    },
    {
     "name": "stdout",
     "output_type": "stream",
     "text": [
      "\n"
     ]
    }
   ],
   "source": [
    "trainer.fit(model, wavdata_module)"
   ]
  },
  {
   "cell_type": "code",
   "execution_count": 20,
   "id": "alive-brother",
   "metadata": {},
   "outputs": [
    {
     "name": "stderr",
     "output_type": "stream",
     "text": [
      "LOCAL_RANK: 0 - CUDA_VISIBLE_DEVICES: [0]\n"
     ]
    },
    {
     "data": {
      "application/vnd.jupyter.widget-view+json": {
       "model_id": "",
       "version_major": 2,
       "version_minor": 0
      },
      "text/plain": [
       "HBox(children=(FloatProgress(value=1.0, bar_style='info', description='Validating', layout=Layout(flex='2'), m…"
      ]
     },
     "metadata": {},
     "output_type": "display_data"
    },
    {
     "name": "stdout",
     "output_type": "stream",
     "text": [
      "--------------------------------------------------------------------------------\n",
      "DATALOADER:0 VALIDATE RESULTS\n",
      "{'val_acc': 0.6938775777816772, 'val_loss': 0.6232637166976929}\n",
      "--------------------------------------------------------------------------------\n"
     ]
    },
    {
     "data": {
      "text/plain": [
       "[{'val_loss': 0.6232637166976929, 'val_acc': 0.6938775777816772}]"
      ]
     },
     "execution_count": 20,
     "metadata": {},
     "output_type": "execute_result"
    }
   ],
   "source": [
    "trainer.validate(model, wavdata_module.val_dataloader())"
   ]
  },
  {
   "cell_type": "markdown",
   "id": "blond-firmware",
   "metadata": {},
   "source": [
    "# Evaluation"
   ]
  },
  {
   "cell_type": "code",
   "execution_count": 23,
   "id": "interesting-implement",
   "metadata": {},
   "outputs": [
    {
     "data": {
      "text/plain": [
       "AudioCRNN(\n",
       "  (feautre_extract): Sequential(\n",
       "    (0): Conv2d(2, 32, kernel_size=(3, 3), stride=(1, 1))\n",
       "    (1): BatchNorm2d(32, eps=1e-05, momentum=0.1, affine=True, track_running_stats=True)\n",
       "    (2): ELU(alpha=1.0)\n",
       "    (3): MaxPool2d(kernel_size=2, stride=2, padding=0, dilation=1, ceil_mode=False)\n",
       "    (4): Dropout(p=0.1, inplace=False)\n",
       "    (5): Conv2d(32, 64, kernel_size=(3, 3), stride=(1, 1))\n",
       "    (6): BatchNorm2d(64, eps=1e-05, momentum=0.1, affine=True, track_running_stats=True)\n",
       "    (7): ELU(alpha=1.0)\n",
       "    (8): MaxPool2d(kernel_size=2, stride=2, padding=0, dilation=1, ceil_mode=False)\n",
       "    (9): Dropout(p=0.1, inplace=False)\n",
       "    (10): Conv2d(64, 128, kernel_size=(3, 3), stride=(1, 1))\n",
       "    (11): BatchNorm2d(128, eps=1e-05, momentum=0.1, affine=True, track_running_stats=True)\n",
       "    (12): ELU(alpha=1.0)\n",
       "    (13): MaxPool2d(kernel_size=2, stride=2, padding=0, dilation=1, ceil_mode=False)\n",
       "    (14): Dropout(p=0.1, inplace=False)\n",
       "  )\n",
       "  (recurr): LSTM(128, 64, num_layers=2, batch_first=True, bidirectional=True)\n",
       "  (classifier): Sequential(\n",
       "    (0): Dropout(p=0.3, inplace=False)\n",
       "    (1): BatchNorm1d(128, eps=1e-05, momentum=0.1, affine=True, track_running_stats=True)\n",
       "    (2): Linear(in_features=128, out_features=2, bias=True)\n",
       "  )\n",
       "  (loss): CrossEntropyLoss()\n",
       "  (val_acc): Accuracy()\n",
       ")"
      ]
     },
     "execution_count": 23,
     "metadata": {},
     "output_type": "execute_result"
    }
   ],
   "source": [
    "model.to('cuda')"
   ]
  },
  {
   "cell_type": "code",
   "execution_count": 24,
   "id": "after-joseph",
   "metadata": {},
   "outputs": [],
   "source": [
    "y_true = []\n",
    "y_pred = []\n",
    "\n",
    "for data, label in wavdata_module.val_dataloader():\n",
    "    logits = model(data.to('cuda'))\n",
    "    preds = F.softmax(logits, dim=-1)\n",
    "    y_pred.append(preds.detach().cpu().numpy().argmax(axis=1))\n",
    "    y_true.append(label.numpy())"
   ]
  },
  {
   "cell_type": "code",
   "execution_count": 28,
   "id": "academic-heaven",
   "metadata": {},
   "outputs": [],
   "source": [
    "y_true = np.concatenate(y_true)\n",
    "y_pred = np.concatenate(y_pred)"
   ]
  },
  {
   "cell_type": "code",
   "execution_count": 29,
   "id": "north-letters",
   "metadata": {},
   "outputs": [
    {
     "name": "stdout",
     "output_type": "stream",
     "text": [
      "              precision    recall  f1-score   support\n",
      "\n",
      "           0       0.68      0.61      0.65        49\n",
      "           1       0.65      0.71      0.68        49\n",
      "\n",
      "    accuracy                           0.66        98\n",
      "   macro avg       0.66      0.66      0.66        98\n",
      "weighted avg       0.66      0.66      0.66        98\n",
      "\n"
     ]
    }
   ],
   "source": [
    "print(classification_report(y_true, y_pred))"
   ]
  },
  {
   "cell_type": "code",
   "execution_count": 32,
   "id": "liquid-count",
   "metadata": {
    "scrolled": false
   },
   "outputs": [
    {
     "data": {
      "text/plain": [
       "<AxesSubplot:>"
      ]
     },
     "execution_count": 32,
     "metadata": {},
     "output_type": "execute_result"
    },
    {
     "data": {
      "image/png": "[encoded data removed]",
      "text/plain": [
       "<Figure size 1080x720 with 2 Axes>"
      ]
     },
     "metadata": {
      "needs_background": "light"
     },
     "output_type": "display_data"
    }
   ],
   "source": [
    "plt.figure(figsize=(15, 10))\n",
    "sns.heatmap(confusion_matrix(y_true, y_pred), fmt='3', annot=True, xticklabels=['cat', 'dog'], yticklabels=['cat', 'dog'])"
   ]
  },
  {
   "cell_type": "code",
   "execution_count": 35,
   "id": "killing-bishop",
   "metadata": {},
   "outputs": [
    {
     "name": "stdout",
     "output_type": "stream",
     "text": [
      "MCC: 0.3282439759448873\n"
     ]
    }
   ],
   "source": [
    "print('MCC: {}'.format(matthews_corrcoef(y_true, y_pred)))"
   ]
  }
 ],
 "metadata": {
  "kernelspec": {
   "display_name": "Python 3",
   "language": "python",
   "name": "python3"
  },
  "language_info": {
   "codemirror_mode": {
    "name": "ipython",
    "version": 3
   },
   "file_extension": ".py",
   "mimetype": "text/x-python",
   "name": "python",
   "nbconvert_exporter": "python",
   "pygments_lexer": "ipython3",
   "version": "3.8.8"
  }
 },
 "nbformat": 4,
 "nbformat_minor": 5
}
