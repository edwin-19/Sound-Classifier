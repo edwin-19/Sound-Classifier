{
 "cells": [
  {
   "cell_type": "code",
   "execution_count": 1,
   "id": "inappropriate-portugal",
   "metadata": {},
   "outputs": [
    {
     "name": "stderr",
     "output_type": "stream",
     "text": [
      "/home/superceed1/anaconda3/envs/py38torch17/lib/python3.8/site-packages/torchaudio/backend/utils.py:53: UserWarning: \"sox\" backend is being deprecated. The default backend will be changed to \"sox_io\" backend in 0.8.0 and \"sox\" backend will be removed in 0.9.0. Please migrate to \"sox_io\" backend. Please refer to https://github.com/pytorch/audio/issues/903 for the detail.\n",
      "  warnings.warn(\n"
     ]
    }
   ],
   "source": [
    "import torch\n",
    "import torch.nn as nn\n",
    "import torch.nn.functional as F\n",
    "import torchaudio\n",
    "from torch.utils.data import DataLoader, Dataset, RandomSampler, SequentialSampler\n",
    "from torchsummary import summary\n",
    "from torchmetrics.functional import accuracy\n",
    "\n",
    "import os\n",
    "from tqdm.notebook import tqdm\n",
    "import pydub\n",
    "import numpy as np\n",
    "import pandas as pd\n",
    "from matplotlib import pyplot as plt\n",
    "import seaborn as sns\n",
    "from sklearn.metrics import classification_report, confusion_matrix, matthews_corrcoef"
   ]
  },
  {
   "cell_type": "code",
   "execution_count": 2,
   "id": "angry-library",
   "metadata": {},
   "outputs": [],
   "source": [
    "learning_rate = 1e-4\n",
    "eps = 1e-8\n",
    "batch_size = 128\n",
    "epochs = 20"
   ]
  },
  {
   "cell_type": "markdown",
   "id": "tender-threshold",
   "metadata": {},
   "source": [
    "# Load and prepare data"
   ]
  },
  {
   "cell_type": "code",
   "execution_count": 3,
   "id": "underlying-aruba",
   "metadata": {},
   "outputs": [],
   "source": [
    "df = pd.read_csv('data/train_test_split.csv')"
   ]
  },
  {
   "cell_type": "code",
   "execution_count": 4,
   "id": "tested-people",
   "metadata": {},
   "outputs": [],
   "source": [
    "train_wav_list = np.concatenate([\n",
    "    df['train_cat'].sample(64, random_state=2021).tolist(),\n",
    "    df[~df['train_dog'].isnull()]['train_dog'].tolist()\n",
    "])"
   ]
  },
  {
   "cell_type": "code",
   "execution_count": 5,
   "id": "personalized-option",
   "metadata": {},
   "outputs": [],
   "source": [
    "test_wav_list = np.concatenate([\n",
    "    df[~df['test_cat'].isnull()]['test_cat'].tolist(),\n",
    "    df[~df['test_dog'].isnull()]['test_dog'].tolist()\n",
    "])"
   ]
  },
  {
   "cell_type": "code",
   "execution_count": 6,
   "id": "involved-inspector",
   "metadata": {},
   "outputs": [],
   "source": [
    "class WavDataset(Dataset):\n",
    "    def __init__(self, wave_list):\n",
    "        super(WavDataset, self).__init__()\n",
    "        self.wav_list = wave_list\n",
    "        self.labels_index = {\n",
    "            'cat': 0,\n",
    "            'dog': 1\n",
    "        }\n",
    "        self.data_path = 'data/cats_dogs/'\n",
    "        self.max_ms = 8000\n",
    "        \n",
    "    def __len__(self):\n",
    "        return len(self.wav_list)\n",
    "    \n",
    "    def __getitem__(self, index):\n",
    "        wav_file = self.wav_list[index]\n",
    "        wav_file_path = os.path.join(self.data_path, wav_file)\n",
    "        \n",
    "        labels = self.labels_index[wav_file[:3]]\n",
    "        sig, sr = torchaudio.load(wav_file_path)\n",
    "        \n",
    "        # Resample to 441khz\n",
    "        resig = torchaudio.transforms.Resample(sr, 44100)(sig[:1, :])\n",
    "        sr = 44100\n",
    "        \n",
    "        # Convert to 2 channel\n",
    "        resig = torch.cat([resig, resig])\n",
    "        \n",
    "        # Pad trunc\n",
    "        num_rows , sig_len = resig.shape\n",
    "        max_len = sr // 1000 * self.max_ms\n",
    "        \n",
    "        if sig_len > max_len:\n",
    "            resig = resig[:, :max_len]\n",
    "        elif sig_len < max_len:\n",
    "            # Length of padding to add at the beginning and end of the signal\n",
    "            pad_begin_len = np.random.randint(0, max_len - sig_len)\n",
    "            pad_end_len = max_len - sig_len - pad_begin_len\n",
    "            \n",
    "            # Pad with 0s\n",
    "            pad_begin = torch.zeros((num_rows, pad_begin_len))\n",
    "            pad_end = torch.zeros((num_rows, pad_end_len))\n",
    "            \n",
    "            resig = torch.cat((pad_begin, resig, pad_end), 1)\n",
    "            \n",
    "        # Convert to mel spectogram\n",
    "        spec = torchaudio.transforms.MelSpectrogram(\n",
    "            sr, n_fft=1024, hop_length=None, n_mels=64\n",
    "        )(resig)\n",
    "        spec = torchaudio.transforms.AmplitudeToDB(top_db=80)(spec)\n",
    "        \n",
    "        return spec, torch.tensor(labels)"
   ]
  },
  {
   "cell_type": "code",
   "execution_count": 7,
   "id": "recovered-trick",
   "metadata": {},
   "outputs": [],
   "source": [
    "train_dataset = WavDataset(train_wav_list)\n",
    "test_dataset = WavDataset(test_wav_list)"
   ]
  },
  {
   "cell_type": "code",
   "execution_count": 8,
   "id": "arranged-usage",
   "metadata": {},
   "outputs": [],
   "source": [
    "train_sampler = RandomSampler(train_dataset)\n",
    "test_sampler = SequentialSampler(test_dataset)\n",
    "\n",
    "train_dataloader = DataLoader(train_dataset, sampler=train_sampler, batch_size=batch_size)\n",
    "test_dataloader = DataLoader(test_dataset, sampler=test_sampler, batch_size=batch_size)"
   ]
  },
  {
   "cell_type": "markdown",
   "id": "portuguese-theme",
   "metadata": {},
   "source": [
    "# Build a simple model"
   ]
  },
  {
   "cell_type": "code",
   "execution_count": 9,
   "id": "covered-three",
   "metadata": {},
   "outputs": [],
   "source": [
    "class SimpleCNN(nn.Module):\n",
    "    def __init__(self):\n",
    "        super(SimpleCNN, self).__init__()\n",
    "        self.conv1 = nn.Conv2d(2, 32, 3)\n",
    "        self.relu = nn.ReLU()\n",
    "        self.maxpool = nn.MaxPool2d(2)\n",
    "        \n",
    "        self.conv2 = nn.Conv2d(32, 64, 3)\n",
    "        self.conv3 = nn.Conv2d(64, 128, 3)\n",
    "        \n",
    "        self.flatten = nn.Flatten()\n",
    "        self.avgpool = nn.AdaptiveAvgPool2d(output_size=1)\n",
    "        self.fc1 = nn.Linear(128 * 1 * 1, 256)\n",
    "        self.dropout = nn.Dropout(0.5)\n",
    "        self.pred = nn.Linear(256, 2)\n",
    "    \n",
    "    def forward(self, x):\n",
    "        x = self.conv1(x)\n",
    "        x = self.relu(x)\n",
    "        x = self.maxpool(x)\n",
    "        \n",
    "        x = self.conv2(x)\n",
    "        x = self.relu(x)\n",
    "        x = self.maxpool(x)\n",
    "        \n",
    "        x = self.conv3(x)\n",
    "        x = self.relu(x)\n",
    "        x = self.maxpool(x)\n",
    "        \n",
    "        x = self.avgpool(x)\n",
    "        x = self.flatten(x)\n",
    "        \n",
    "        x = self.fc1(x)\n",
    "        x = self.relu(x)\n",
    "        x = self.dropout(x)\n",
    "        x = self.pred(x)\n",
    "        \n",
    "        return x"
   ]
  },
  {
   "cell_type": "code",
   "execution_count": 10,
   "id": "catholic-symphony",
   "metadata": {},
   "outputs": [
    {
     "data": {
      "text/plain": [
       "SimpleCNN(\n",
       "  (conv1): Conv2d(2, 32, kernel_size=(3, 3), stride=(1, 1))\n",
       "  (relu): ReLU()\n",
       "  (maxpool): MaxPool2d(kernel_size=2, stride=2, padding=0, dilation=1, ceil_mode=False)\n",
       "  (conv2): Conv2d(32, 64, kernel_size=(3, 3), stride=(1, 1))\n",
       "  (conv3): Conv2d(64, 128, kernel_size=(3, 3), stride=(1, 1))\n",
       "  (flatten): Flatten(start_dim=1, end_dim=-1)\n",
       "  (avgpool): AdaptiveAvgPool2d(output_size=1)\n",
       "  (fc1): Linear(in_features=128, out_features=256, bias=True)\n",
       "  (dropout): Dropout(p=0.5, inplace=False)\n",
       "  (pred): Linear(in_features=256, out_features=2, bias=True)\n",
       ")"
      ]
     },
     "execution_count": 10,
     "metadata": {},
     "output_type": "execute_result"
    }
   ],
   "source": [
    "model = SimpleCNN()\n",
    "model.to('cuda')"
   ]
  },
  {
   "cell_type": "code",
   "execution_count": 11,
   "id": "adaptive-prisoner",
   "metadata": {},
   "outputs": [],
   "source": [
    "criterion = nn.CrossEntropyLoss()\n",
    "optimizer = torch.optim.Adam(model.parameters(), lr=learning_rate, eps=eps)"
   ]
  },
  {
   "cell_type": "code",
   "execution_count": 12,
   "id": "least-harvest",
   "metadata": {},
   "outputs": [
    {
     "name": "stdout",
     "output_type": "stream",
     "text": [
      "----------------------------------------------------------------\n",
      "        Layer (type)               Output Shape         Param #\n",
      "================================================================\n",
      "            Conv2d-1          [-1, 32, 62, 428]             608\n",
      "              ReLU-2          [-1, 32, 62, 428]               0\n",
      "         MaxPool2d-3          [-1, 32, 31, 214]               0\n",
      "            Conv2d-4          [-1, 64, 29, 212]          18,496\n",
      "              ReLU-5          [-1, 64, 29, 212]               0\n",
      "         MaxPool2d-6          [-1, 64, 14, 106]               0\n",
      "            Conv2d-7         [-1, 128, 12, 104]          73,856\n",
      "              ReLU-8         [-1, 128, 12, 104]               0\n",
      "         MaxPool2d-9           [-1, 128, 6, 52]               0\n",
      "AdaptiveAvgPool2d-10            [-1, 128, 1, 1]               0\n",
      "          Flatten-11                  [-1, 128]               0\n",
      "           Linear-12                  [-1, 256]          33,024\n",
      "             ReLU-13                  [-1, 256]               0\n",
      "          Dropout-14                  [-1, 256]               0\n",
      "           Linear-15                    [-1, 2]             514\n",
      "================================================================\n",
      "Total params: 126,498\n",
      "Trainable params: 126,498\n",
      "Non-trainable params: 0\n",
      "----------------------------------------------------------------\n",
      "Input size (MB): 0.21\n",
      "Forward/backward pass size (MB): 24.06\n",
      "Params size (MB): 0.48\n",
      "Estimated Total Size (MB): 24.75\n",
      "----------------------------------------------------------------\n"
     ]
    }
   ],
   "source": [
    "summary(model, (2, 64, 430))"
   ]
  },
  {
   "cell_type": "markdown",
   "id": "still-egypt",
   "metadata": {},
   "source": [
    "# Training Loop"
   ]
  },
  {
   "cell_type": "code",
   "execution_count": 13,
   "id": "sufficient-companion",
   "metadata": {},
   "outputs": [
    {
     "data": {
      "application/vnd.jupyter.widget-view+json": {
       "model_id": "827095d7184b4f5a856ea66195d1a5a3",
       "version_major": 2,
       "version_minor": 0
      },
      "text/plain": [
       "HBox(children=(FloatProgress(value=0.0, max=20.0), HTML(value='')))"
      ]
     },
     "metadata": {},
     "output_type": "display_data"
    },
    {
     "data": {
      "application/vnd.jupyter.widget-view+json": {
       "model_id": "ccd66185b6bc4e63ad0f2007084cc028",
       "version_major": 2,
       "version_minor": 0
      },
      "text/plain": [
       "HBox(children=(FloatProgress(value=0.0, max=1.0), HTML(value='')))"
      ]
     },
     "metadata": {},
     "output_type": "display_data"
    },
    {
     "name": "stderr",
     "output_type": "stream",
     "text": [
      "/home/superceed1/anaconda3/envs/py38torch17/lib/python3.8/site-packages/torch/functional.py:515: UserWarning: stft will require the return_complex parameter be explicitly  specified in a future PyTorch release. Use return_complex=False  to preserve the current behavior or return_complex=True to return  a complex output. (Triggered internally at  /pytorch/aten/src/ATen/native/SpectralOps.cpp:653.)\n",
      "  return _VF.stft(input, n_fft, hop_length, win_length, window,  # type: ignore\n",
      "/home/superceed1/anaconda3/envs/py38torch17/lib/python3.8/site-packages/torch/functional.py:515: UserWarning: The function torch.rfft is deprecated and will be removed in a future PyTorch release. Use the new torch.fft module functions, instead, by importing torch.fft and calling torch.fft.fft or torch.fft.rfft. (Triggered internally at  /pytorch/aten/src/ATen/native/SpectralOps.cpp:590.)\n",
      "  return _VF.stft(input, n_fft, hop_length, win_length, window,  # type: ignore\n"
     ]
    },
    {
     "name": "stdout",
     "output_type": "stream",
     "text": [
      "\n",
      "[Epoch 1] loss: 0.750\n"
     ]
    },
    {
     "data": {
      "application/vnd.jupyter.widget-view+json": {
       "model_id": "6b6d6168cb974e8393ac0f80b13c42eb",
       "version_major": 2,
       "version_minor": 0
      },
      "text/plain": [
       "HBox(children=(FloatProgress(value=0.0, max=1.0), HTML(value='')))"
      ]
     },
     "metadata": {},
     "output_type": "display_data"
    },
    {
     "name": "stdout",
     "output_type": "stream",
     "text": [
      "\n",
      "Accuracy of the network on test images: 0.663 %\n"
     ]
    },
    {
     "data": {
      "application/vnd.jupyter.widget-view+json": {
       "model_id": "42b5223347664a67bce39763b86450df",
       "version_major": 2,
       "version_minor": 0
      },
      "text/plain": [
       "HBox(children=(FloatProgress(value=0.0, max=1.0), HTML(value='')))"
      ]
     },
     "metadata": {},
     "output_type": "display_data"
    },
    {
     "name": "stdout",
     "output_type": "stream",
     "text": [
      "\n",
      "[Epoch 2] loss: 0.741\n"
     ]
    },
    {
     "data": {
      "application/vnd.jupyter.widget-view+json": {
       "model_id": "7c40ef1db70e4096a59297d64a61575a",
       "version_major": 2,
       "version_minor": 0
      },
      "text/plain": [
       "HBox(children=(FloatProgress(value=0.0, max=1.0), HTML(value='')))"
      ]
     },
     "metadata": {},
     "output_type": "display_data"
    },
    {
     "name": "stdout",
     "output_type": "stream",
     "text": [
      "\n",
      "Accuracy of the network on test images: 0.520 %\n"
     ]
    },
    {
     "data": {
      "application/vnd.jupyter.widget-view+json": {
       "model_id": "511b113e0dbe47428b837e4880b78479",
       "version_major": 2,
       "version_minor": 0
      },
      "text/plain": [
       "HBox(children=(FloatProgress(value=0.0, max=1.0), HTML(value='')))"
      ]
     },
     "metadata": {},
     "output_type": "display_data"
    },
    {
     "name": "stdout",
     "output_type": "stream",
     "text": [
      "\n",
      "[Epoch 3] loss: 0.693\n"
     ]
    },
    {
     "data": {
      "application/vnd.jupyter.widget-view+json": {
       "model_id": "a29b367a337846e5bd9119dcb99ef891",
       "version_major": 2,
       "version_minor": 0
      },
      "text/plain": [
       "HBox(children=(FloatProgress(value=0.0, max=1.0), HTML(value='')))"
      ]
     },
     "metadata": {},
     "output_type": "display_data"
    },
    {
     "name": "stdout",
     "output_type": "stream",
     "text": [
      "\n",
      "Accuracy of the network on test images: 0.510 %\n"
     ]
    },
    {
     "data": {
      "application/vnd.jupyter.widget-view+json": {
       "model_id": "46b0300ae56f4539b5ade76c5a8f9598",
       "version_major": 2,
       "version_minor": 0
      },
      "text/plain": [
       "HBox(children=(FloatProgress(value=0.0, max=1.0), HTML(value='')))"
      ]
     },
     "metadata": {},
     "output_type": "display_data"
    },
    {
     "name": "stdout",
     "output_type": "stream",
     "text": [
      "\n",
      "[Epoch 4] loss: 0.715\n"
     ]
    },
    {
     "data": {
      "application/vnd.jupyter.widget-view+json": {
       "model_id": "1cd43dacddbe46d39b2f91b5dec9a3e6",
       "version_major": 2,
       "version_minor": 0
      },
      "text/plain": [
       "HBox(children=(FloatProgress(value=0.0, max=1.0), HTML(value='')))"
      ]
     },
     "metadata": {},
     "output_type": "display_data"
    },
    {
     "name": "stdout",
     "output_type": "stream",
     "text": [
      "\n",
      "Accuracy of the network on test images: 0.571 %\n"
     ]
    },
    {
     "data": {
      "application/vnd.jupyter.widget-view+json": {
       "model_id": "85995347d3254c2c90b8023a7fc9c59e",
       "version_major": 2,
       "version_minor": 0
      },
      "text/plain": [
       "HBox(children=(FloatProgress(value=0.0, max=1.0), HTML(value='')))"
      ]
     },
     "metadata": {},
     "output_type": "display_data"
    },
    {
     "name": "stdout",
     "output_type": "stream",
     "text": [
      "\n",
      "[Epoch 5] loss: 0.737\n"
     ]
    },
    {
     "data": {
      "application/vnd.jupyter.widget-view+json": {
       "model_id": "97241563687f411cb32d17e0bac79b18",
       "version_major": 2,
       "version_minor": 0
      },
      "text/plain": [
       "HBox(children=(FloatProgress(value=0.0, max=1.0), HTML(value='')))"
      ]
     },
     "metadata": {},
     "output_type": "display_data"
    },
    {
     "name": "stdout",
     "output_type": "stream",
     "text": [
      "\n",
      "Accuracy of the network on test images: 0.653 %\n"
     ]
    },
    {
     "data": {
      "application/vnd.jupyter.widget-view+json": {
       "model_id": "9e365b72fa55487b962f356813d00a9f",
       "version_major": 2,
       "version_minor": 0
      },
      "text/plain": [
       "HBox(children=(FloatProgress(value=0.0, max=1.0), HTML(value='')))"
      ]
     },
     "metadata": {},
     "output_type": "display_data"
    },
    {
     "name": "stdout",
     "output_type": "stream",
     "text": [
      "\n",
      "[Epoch 6] loss: 0.687\n"
     ]
    },
    {
     "data": {
      "application/vnd.jupyter.widget-view+json": {
       "model_id": "a8f45a0657d04c9689eedfaed56e679a",
       "version_major": 2,
       "version_minor": 0
      },
      "text/plain": [
       "HBox(children=(FloatProgress(value=0.0, max=1.0), HTML(value='')))"
      ]
     },
     "metadata": {},
     "output_type": "display_data"
    },
    {
     "name": "stdout",
     "output_type": "stream",
     "text": [
      "\n",
      "Accuracy of the network on test images: 0.694 %\n"
     ]
    },
    {
     "data": {
      "application/vnd.jupyter.widget-view+json": {
       "model_id": "4a96443c4d224f179c68363245a705a9",
       "version_major": 2,
       "version_minor": 0
      },
      "text/plain": [
       "HBox(children=(FloatProgress(value=0.0, max=1.0), HTML(value='')))"
      ]
     },
     "metadata": {},
     "output_type": "display_data"
    },
    {
     "name": "stdout",
     "output_type": "stream",
     "text": [
      "\n",
      "[Epoch 7] loss: 0.711\n"
     ]
    },
    {
     "data": {
      "application/vnd.jupyter.widget-view+json": {
       "model_id": "14896b2b695f4fc488baa84f2bec6636",
       "version_major": 2,
       "version_minor": 0
      },
      "text/plain": [
       "HBox(children=(FloatProgress(value=0.0, max=1.0), HTML(value='')))"
      ]
     },
     "metadata": {},
     "output_type": "display_data"
    },
    {
     "name": "stdout",
     "output_type": "stream",
     "text": [
      "\n",
      "Accuracy of the network on test images: 0.684 %\n"
     ]
    },
    {
     "data": {
      "application/vnd.jupyter.widget-view+json": {
       "model_id": "6a6b8807b69d41efa50ebdc9ec989189",
       "version_major": 2,
       "version_minor": 0
      },
      "text/plain": [
       "HBox(children=(FloatProgress(value=0.0, max=1.0), HTML(value='')))"
      ]
     },
     "metadata": {},
     "output_type": "display_data"
    },
    {
     "name": "stdout",
     "output_type": "stream",
     "text": [
      "\n",
      "[Epoch 8] loss: 0.684\n"
     ]
    },
    {
     "data": {
      "application/vnd.jupyter.widget-view+json": {
       "model_id": "12698e0561a74e099c30eced0fc1ce5b",
       "version_major": 2,
       "version_minor": 0
      },
      "text/plain": [
       "HBox(children=(FloatProgress(value=0.0, max=1.0), HTML(value='')))"
      ]
     },
     "metadata": {},
     "output_type": "display_data"
    },
    {
     "name": "stdout",
     "output_type": "stream",
     "text": [
      "\n",
      "Accuracy of the network on test images: 0.571 %\n"
     ]
    },
    {
     "data": {
      "application/vnd.jupyter.widget-view+json": {
       "model_id": "36d59960ac2e44d28ac38e3fbdfecabf",
       "version_major": 2,
       "version_minor": 0
      },
      "text/plain": [
       "HBox(children=(FloatProgress(value=0.0, max=1.0), HTML(value='')))"
      ]
     },
     "metadata": {},
     "output_type": "display_data"
    },
    {
     "name": "stdout",
     "output_type": "stream",
     "text": [
      "\n",
      "[Epoch 9] loss: 0.680\n"
     ]
    },
    {
     "data": {
      "application/vnd.jupyter.widget-view+json": {
       "model_id": "436dc6ba29b8414d836255d05c5020d4",
       "version_major": 2,
       "version_minor": 0
      },
      "text/plain": [
       "HBox(children=(FloatProgress(value=0.0, max=1.0), HTML(value='')))"
      ]
     },
     "metadata": {},
     "output_type": "display_data"
    },
    {
     "name": "stdout",
     "output_type": "stream",
     "text": [
      "\n",
      "Accuracy of the network on test images: 0.592 %\n"
     ]
    },
    {
     "data": {
      "application/vnd.jupyter.widget-view+json": {
       "model_id": "bb340beb05694cf6b42c82f5c22deae7",
       "version_major": 2,
       "version_minor": 0
      },
      "text/plain": [
       "HBox(children=(FloatProgress(value=0.0, max=1.0), HTML(value='')))"
      ]
     },
     "metadata": {},
     "output_type": "display_data"
    },
    {
     "name": "stdout",
     "output_type": "stream",
     "text": [
      "\n",
      "[Epoch 10] loss: 0.690\n"
     ]
    },
    {
     "data": {
      "application/vnd.jupyter.widget-view+json": {
       "model_id": "24b6a23c380c4ff78cc59613c984b6d4",
       "version_major": 2,
       "version_minor": 0
      },
      "text/plain": [
       "HBox(children=(FloatProgress(value=0.0, max=1.0), HTML(value='')))"
      ]
     },
     "metadata": {},
     "output_type": "display_data"
    },
    {
     "name": "stdout",
     "output_type": "stream",
     "text": [
      "\n",
      "Accuracy of the network on test images: 0.684 %\n"
     ]
    },
    {
     "data": {
      "application/vnd.jupyter.widget-view+json": {
       "model_id": "e67852285f4e4b83a4c2df2f810e8d87",
       "version_major": 2,
       "version_minor": 0
      },
      "text/plain": [
       "HBox(children=(FloatProgress(value=0.0, max=1.0), HTML(value='')))"
      ]
     },
     "metadata": {},
     "output_type": "display_data"
    },
    {
     "name": "stdout",
     "output_type": "stream",
     "text": [
      "\n",
      "[Epoch 11] loss: 0.657\n"
     ]
    },
    {
     "data": {
      "application/vnd.jupyter.widget-view+json": {
       "model_id": "be931c9c59ff4fdda6ec0df008c5764b",
       "version_major": 2,
       "version_minor": 0
      },
      "text/plain": [
       "HBox(children=(FloatProgress(value=0.0, max=1.0), HTML(value='')))"
      ]
     },
     "metadata": {},
     "output_type": "display_data"
    },
    {
     "name": "stdout",
     "output_type": "stream",
     "text": [
      "\n",
      "Accuracy of the network on test images: 0.694 %\n"
     ]
    },
    {
     "data": {
      "application/vnd.jupyter.widget-view+json": {
       "model_id": "f88d4f10f0e8412397f3ae358d295f55",
       "version_major": 2,
       "version_minor": 0
      },
      "text/plain": [
       "HBox(children=(FloatProgress(value=0.0, max=1.0), HTML(value='')))"
      ]
     },
     "metadata": {},
     "output_type": "display_data"
    },
    {
     "name": "stdout",
     "output_type": "stream",
     "text": [
      "\n",
      "[Epoch 12] loss: 0.657\n"
     ]
    },
    {
     "data": {
      "application/vnd.jupyter.widget-view+json": {
       "model_id": "00452a12f0ea469bbf1248f46f1f0898",
       "version_major": 2,
       "version_minor": 0
      },
      "text/plain": [
       "HBox(children=(FloatProgress(value=0.0, max=1.0), HTML(value='')))"
      ]
     },
     "metadata": {},
     "output_type": "display_data"
    },
    {
     "name": "stdout",
     "output_type": "stream",
     "text": [
      "\n",
      "Accuracy of the network on test images: 0.694 %\n"
     ]
    },
    {
     "data": {
      "application/vnd.jupyter.widget-view+json": {
       "model_id": "3f2be18b47c3401eb62c8cfa31b0945c",
       "version_major": 2,
       "version_minor": 0
      },
      "text/plain": [
       "HBox(children=(FloatProgress(value=0.0, max=1.0), HTML(value='')))"
      ]
     },
     "metadata": {},
     "output_type": "display_data"
    },
    {
     "name": "stdout",
     "output_type": "stream",
     "text": [
      "\n",
      "[Epoch 13] loss: 0.669\n"
     ]
    },
    {
     "data": {
      "application/vnd.jupyter.widget-view+json": {
       "model_id": "9022dd295e214679a36a64f7dc3c6144",
       "version_major": 2,
       "version_minor": 0
      },
      "text/plain": [
       "HBox(children=(FloatProgress(value=0.0, max=1.0), HTML(value='')))"
      ]
     },
     "metadata": {},
     "output_type": "display_data"
    },
    {
     "name": "stdout",
     "output_type": "stream",
     "text": [
      "\n",
      "Accuracy of the network on test images: 0.684 %\n"
     ]
    },
    {
     "data": {
      "application/vnd.jupyter.widget-view+json": {
       "model_id": "d94e4b6dc4bf4645877b6da7b6f71825",
       "version_major": 2,
       "version_minor": 0
      },
      "text/plain": [
       "HBox(children=(FloatProgress(value=0.0, max=1.0), HTML(value='')))"
      ]
     },
     "metadata": {},
     "output_type": "display_data"
    },
    {
     "name": "stdout",
     "output_type": "stream",
     "text": [
      "\n",
      "[Epoch 14] loss: 0.680\n"
     ]
    },
    {
     "data": {
      "application/vnd.jupyter.widget-view+json": {
       "model_id": "4ef1783b29b74bb289911aa4079104f4",
       "version_major": 2,
       "version_minor": 0
      },
      "text/plain": [
       "HBox(children=(FloatProgress(value=0.0, max=1.0), HTML(value='')))"
      ]
     },
     "metadata": {},
     "output_type": "display_data"
    },
    {
     "name": "stdout",
     "output_type": "stream",
     "text": [
      "\n",
      "Accuracy of the network on test images: 0.684 %\n"
     ]
    },
    {
     "data": {
      "application/vnd.jupyter.widget-view+json": {
       "model_id": "4d5870b23b0a42d6887af65916630143",
       "version_major": 2,
       "version_minor": 0
      },
      "text/plain": [
       "HBox(children=(FloatProgress(value=0.0, max=1.0), HTML(value='')))"
      ]
     },
     "metadata": {},
     "output_type": "display_data"
    },
    {
     "name": "stdout",
     "output_type": "stream",
     "text": [
      "\n",
      "[Epoch 15] loss: 0.657\n"
     ]
    },
    {
     "data": {
      "application/vnd.jupyter.widget-view+json": {
       "model_id": "a9f697cd80154ec7a3015feb00720d7b",
       "version_major": 2,
       "version_minor": 0
      },
      "text/plain": [
       "HBox(children=(FloatProgress(value=0.0, max=1.0), HTML(value='')))"
      ]
     },
     "metadata": {},
     "output_type": "display_data"
    },
    {
     "name": "stdout",
     "output_type": "stream",
     "text": [
      "\n",
      "Accuracy of the network on test images: 0.694 %\n"
     ]
    },
    {
     "data": {
      "application/vnd.jupyter.widget-view+json": {
       "model_id": "4627db20d6af472babbe0cacdb794386",
       "version_major": 2,
       "version_minor": 0
      },
      "text/plain": [
       "HBox(children=(FloatProgress(value=0.0, max=1.0), HTML(value='')))"
      ]
     },
     "metadata": {},
     "output_type": "display_data"
    },
    {
     "name": "stdout",
     "output_type": "stream",
     "text": [
      "\n",
      "[Epoch 16] loss: 0.667\n"
     ]
    },
    {
     "data": {
      "application/vnd.jupyter.widget-view+json": {
       "model_id": "ce23b31a75b14a14b587f1ecc51dac46",
       "version_major": 2,
       "version_minor": 0
      },
      "text/plain": [
       "HBox(children=(FloatProgress(value=0.0, max=1.0), HTML(value='')))"
      ]
     },
     "metadata": {},
     "output_type": "display_data"
    },
    {
     "name": "stdout",
     "output_type": "stream",
     "text": [
      "\n",
      "Accuracy of the network on test images: 0.673 %\n"
     ]
    },
    {
     "data": {
      "application/vnd.jupyter.widget-view+json": {
       "model_id": "3365a6a94e0948a1bcefbd9f0d1fabf0",
       "version_major": 2,
       "version_minor": 0
      },
      "text/plain": [
       "HBox(children=(FloatProgress(value=0.0, max=1.0), HTML(value='')))"
      ]
     },
     "metadata": {},
     "output_type": "display_data"
    },
    {
     "name": "stdout",
     "output_type": "stream",
     "text": [
      "\n",
      "[Epoch 17] loss: 0.655\n"
     ]
    },
    {
     "data": {
      "application/vnd.jupyter.widget-view+json": {
       "model_id": "cf9cf3fae5fa4f77a97823731c7f38e0",
       "version_major": 2,
       "version_minor": 0
      },
      "text/plain": [
       "HBox(children=(FloatProgress(value=0.0, max=1.0), HTML(value='')))"
      ]
     },
     "metadata": {},
     "output_type": "display_data"
    },
    {
     "name": "stdout",
     "output_type": "stream",
     "text": [
      "\n",
      "Accuracy of the network on test images: 0.714 %\n"
     ]
    },
    {
     "data": {
      "application/vnd.jupyter.widget-view+json": {
       "model_id": "4014c3998bde4f0b8fc4ded4094a6619",
       "version_major": 2,
       "version_minor": 0
      },
      "text/plain": [
       "HBox(children=(FloatProgress(value=0.0, max=1.0), HTML(value='')))"
      ]
     },
     "metadata": {},
     "output_type": "display_data"
    },
    {
     "name": "stdout",
     "output_type": "stream",
     "text": [
      "\n",
      "[Epoch 18] loss: 0.650\n"
     ]
    },
    {
     "data": {
      "application/vnd.jupyter.widget-view+json": {
       "model_id": "cd0a2df2ddc74514ad279bc87e83e000",
       "version_major": 2,
       "version_minor": 0
      },
      "text/plain": [
       "HBox(children=(FloatProgress(value=0.0, max=1.0), HTML(value='')))"
      ]
     },
     "metadata": {},
     "output_type": "display_data"
    },
    {
     "name": "stdout",
     "output_type": "stream",
     "text": [
      "\n",
      "Accuracy of the network on test images: 0.704 %\n"
     ]
    },
    {
     "data": {
      "application/vnd.jupyter.widget-view+json": {
       "model_id": "50d8296fed9b430bb9880d219706bd0b",
       "version_major": 2,
       "version_minor": 0
      },
      "text/plain": [
       "HBox(children=(FloatProgress(value=0.0, max=1.0), HTML(value='')))"
      ]
     },
     "metadata": {},
     "output_type": "display_data"
    },
    {
     "name": "stdout",
     "output_type": "stream",
     "text": [
      "\n",
      "[Epoch 19] loss: 0.657\n"
     ]
    },
    {
     "data": {
      "application/vnd.jupyter.widget-view+json": {
       "model_id": "1c50063628e34402acf91baa634164b6",
       "version_major": 2,
       "version_minor": 0
      },
      "text/plain": [
       "HBox(children=(FloatProgress(value=0.0, max=1.0), HTML(value='')))"
      ]
     },
     "metadata": {},
     "output_type": "display_data"
    },
    {
     "name": "stdout",
     "output_type": "stream",
     "text": [
      "\n",
      "Accuracy of the network on test images: 0.694 %\n"
     ]
    },
    {
     "data": {
      "application/vnd.jupyter.widget-view+json": {
       "model_id": "c4edd3960d5f4785b7bc30b438ed4caf",
       "version_major": 2,
       "version_minor": 0
      },
      "text/plain": [
       "HBox(children=(FloatProgress(value=0.0, max=1.0), HTML(value='')))"
      ]
     },
     "metadata": {},
     "output_type": "display_data"
    },
    {
     "name": "stdout",
     "output_type": "stream",
     "text": [
      "\n",
      "[Epoch 20] loss: 0.632\n"
     ]
    },
    {
     "data": {
      "application/vnd.jupyter.widget-view+json": {
       "model_id": "90c5166b2df143df8ce8bfbc9289eae8",
       "version_major": 2,
       "version_minor": 0
      },
      "text/plain": [
       "HBox(children=(FloatProgress(value=0.0, max=1.0), HTML(value='')))"
      ]
     },
     "metadata": {},
     "output_type": "display_data"
    },
    {
     "name": "stdout",
     "output_type": "stream",
     "text": [
      "\n",
      "Accuracy of the network on test images: 0.694 %\n",
      "\n"
     ]
    }
   ],
   "source": [
    "train_loss = []\n",
    "test_loss = []\n",
    "\n",
    "for epoch in tqdm(range(epochs)):\n",
    "    # Train\n",
    "    model.train()\n",
    "    running_loss = 0.0\n",
    "    \n",
    "    for index, (spec, label) in tqdm(enumerate(train_dataloader), total=len(train_dataloader)):\n",
    "        batch_spec = spec.to('cuda')\n",
    "        batch_label = label.to('cuda')\n",
    "        \n",
    "        # Zero gradients\n",
    "        optimizer.zero_grad()\n",
    "        \n",
    "        # Forward pass\n",
    "        logits = model(batch_spec)\n",
    "        \n",
    "        # Back pass\n",
    "        loss = criterion(logits, batch_label)\n",
    "        loss.backward()\n",
    "        optimizer.step()\n",
    "        \n",
    "        running_loss += loss.item()\n",
    "    \n",
    "    print('[Epoch %d] loss: %.3f' % (epoch + 1, running_loss/len(train_dataloader)))\n",
    "        \n",
    "    # Testing\n",
    "    model.eval()\n",
    "    y_true = []\n",
    "    y_pred = []\n",
    "    \n",
    "    for index, (test_spec, test_label) in tqdm(enumerate(test_dataloader), total=len(test_dataloader)):\n",
    "        test_batch_spec = test_spec.to('cuda')\n",
    "        test_batch_label = test_label.to('cuda')\n",
    "        \n",
    "        with torch.no_grad():\n",
    "            test_logits = model(test_batch_spec)\n",
    "        \n",
    "        loss = criterion(test_logits, test_batch_label)\n",
    "        test_loss.append(loss.item())\n",
    "        \n",
    "        y_true.append(test_batch_label.detach().cpu().numpy())\n",
    "        y_pred.append(test_logits.detach().cpu().numpy())\n",
    "        \n",
    "    y_true, y_pred = torch.tensor(np.concatenate(y_true)), torch.tensor(np.concatenate(y_pred)).argmax(axis=1)\n",
    "    \n",
    "    print('Accuracy of the network on test images: %0.3f %%' % accuracy(y_true, y_pred))"
   ]
  },
  {
   "cell_type": "markdown",
   "id": "confirmed-awareness",
   "metadata": {},
   "source": [
    "# Simple Evaluation"
   ]
  },
  {
   "cell_type": "code",
   "execution_count": 14,
   "id": "duplicate-embassy",
   "metadata": {},
   "outputs": [],
   "source": [
    "test_data = df[(~df['test_cat'].isnull()) & (~df['test_dog'].isnull())][['test_dog', 'test_cat']]"
   ]
  },
  {
   "cell_type": "code",
   "execution_count": 15,
   "id": "purple-tanzania",
   "metadata": {},
   "outputs": [],
   "source": [
    "y_true = []\n",
    "y_pred = []\n",
    "\n",
    "for data, label in test_dataset:\n",
    "    logits = model(data.unsqueeze(0).to('cuda'))\n",
    "    preds = F.softmax(logits, dim=-1)\n",
    "    y_pred.append(preds.detach().cpu().numpy().argmax(axis=1))\n",
    "    y_true.append(label.numpy())"
   ]
  },
  {
   "cell_type": "code",
   "execution_count": 16,
   "id": "female-advance",
   "metadata": {},
   "outputs": [
    {
     "name": "stdout",
     "output_type": "stream",
     "text": [
      "              precision    recall  f1-score   support\n",
      "\n",
      "           0       0.72      0.63      0.67        49\n",
      "           1       0.67      0.76      0.71        49\n",
      "\n",
      "    accuracy                           0.69        98\n",
      "   macro avg       0.70      0.69      0.69        98\n",
      "weighted avg       0.70      0.69      0.69        98\n",
      "\n"
     ]
    }
   ],
   "source": [
    "print(classification_report(y_true, y_pred))"
   ]
  },
  {
   "cell_type": "code",
   "execution_count": 17,
   "id": "standing-living",
   "metadata": {},
   "outputs": [
    {
     "data": {
      "text/plain": [
       "<AxesSubplot:>"
      ]
     },
     "execution_count": 17,
     "metadata": {},
     "output_type": "execute_result"
    },
    {
     "data": {
      "image/png": "[encoded data removed]",
      "text/plain": [
       "<Figure size 1080x720 with 2 Axes>"
      ]
     },
     "metadata": {
      "needs_background": "light"
     },
     "output_type": "display_data"
    }
   ],
   "source": [
    "plt.figure(figsize=(15, 10))\n",
    "sns.heatmap(confusion_matrix(y_true, y_pred), fmt='3', annot=True, xticklabels=['cat', 'dog'], yticklabels=['cat', 'dog'])"
   ]
  },
  {
   "cell_type": "code",
   "execution_count": 18,
   "id": "natural-architect",
   "metadata": {},
   "outputs": [
    {
     "name": "stdout",
     "output_type": "stream",
     "text": [
      "MCC: 0.3906951575475158\n"
     ]
    }
   ],
   "source": [
    "print('MCC: {}'.format(matthews_corrcoef(y_true, y_pred)))"
   ]
  },
  {
   "cell_type": "markdown",
   "id": "different-shadow",
   "metadata": {},
   "source": [
    "# Visually Insepct"
   ]
  },
  {
   "cell_type": "code",
   "execution_count": 21,
   "id": "organized-accreditation",
   "metadata": {},
   "outputs": [],
   "source": [
    "def load_prepare_wav(wav_path, max_ms=8000):\n",
    "    sig, sr = torchaudio.load(wav_path)\n",
    "    resig = torchaudio.transforms.Resample(sr, 44100)(sig[:1, :])\n",
    "    sr = 44100\n",
    "\n",
    "    # Convert to 2 channel\n",
    "    resig = torch.cat([resig, resig])\n",
    "\n",
    "    # Pad trunc\n",
    "    num_rows , sig_len = resig.shape\n",
    "    max_len = sr // 1000 * max_ms\n",
    "\n",
    "    if sig_len > max_len:\n",
    "        resig = resig[:, :max_len]\n",
    "    elif sig_len < max_len:\n",
    "        # Length of padding to add at the beginning and end of the signal\n",
    "        pad_begin_len = np.random.randint(0, max_len - sig_len)\n",
    "        pad_end_len = max_len - sig_len - pad_begin_len\n",
    "\n",
    "        # Pad with 0s\n",
    "        pad_begin = torch.zeros((num_rows, pad_begin_len))\n",
    "        pad_end = torch.zeros((num_rows, pad_end_len))\n",
    "\n",
    "        resig = torch.cat((pad_begin, resig, pad_end), 1)\n",
    "\n",
    "    # Convert to mel spectogram\n",
    "    spec = torchaudio.transforms.MelSpectrogram(\n",
    "        sr, n_fft=1024, hop_length=None, n_mels=64\n",
    "    )(resig)\n",
    "    spec = torchaudio.transforms.AmplitudeToDB(top_db=80)(spec)\n",
    "    \n",
    "    return spec"
   ]
  },
  {
   "cell_type": "code",
   "execution_count": 22,
   "id": "caroline-construction",
   "metadata": {},
   "outputs": [],
   "source": [
    "from IPython.display import Audio"
   ]
  },
  {
   "cell_type": "code",
   "execution_count": 35,
   "id": "legal-knitting",
   "metadata": {},
   "outputs": [],
   "source": [
    "wav_file = df[~df['test_cat'].isnull()].sample(1)['test_dog'].iloc[0]\n",
    "labels = {0: 'cat', 1: 'dog'}"
   ]
  },
  {
   "cell_type": "code",
   "execution_count": 36,
   "id": "egyptian-float",
   "metadata": {},
   "outputs": [],
   "source": [
    "wav_path = os.path.join('data/cats_dogs/', wav_file)"
   ]
  },
  {
   "cell_type": "code",
   "execution_count": 37,
   "id": "verified-costume",
   "metadata": {},
   "outputs": [],
   "source": [
    "spec = load_prepare_wav(wav_path)"
   ]
  },
  {
   "cell_type": "code",
   "execution_count": 38,
   "id": "forward-burst",
   "metadata": {},
   "outputs": [],
   "source": [
    "results = model(spec.unsqueeze(0).to('cuda'))"
   ]
  },
  {
   "cell_type": "code",
   "execution_count": 39,
   "id": "silent-messaging",
   "metadata": {},
   "outputs": [
    {
     "name": "stdout",
     "output_type": "stream",
     "text": [
      "Label: dog, Conf: 55.91\n"
     ]
    }
   ],
   "source": [
    "results = F.softmax(results, dim=-1)\n",
    "results = results.squeeze(0).detach().cpu().numpy()\n",
    "label = labels[results.argmax()]\n",
    "print('Label: {}, Conf: {}'.format(label, round(results.max() * 100, 2)))"
   ]
  },
  {
   "cell_type": "code",
   "execution_count": 40,
   "id": "visible-director",
   "metadata": {},
   "outputs": [
    {
     "data": {
      "text/html": [
       "\n",
       "                <audio  controls=\"controls\" >\n",
       "                    <source src=\"data:audio/x-wav;base64,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\" type=\"audio/x-wav\" />\n",
       "                    Your browser does not support the audio element.\n",
       "                </audio>\n",
       "              "
      ],
      "text/plain": [
       "<IPython.lib.display.Audio object>"
      ]
     },
     "execution_count": 40,
     "metadata": {},
     "output_type": "execute_result"
    }
   ],
   "source": [
    "Audio(wav_path)"
   ]
  },
  {
   "cell_type": "markdown",
   "id": "temporal-executive",
   "metadata": {},
   "source": [
    "# Save model weights"
   ]
  },
  {
   "cell_type": "code",
   "execution_count": 43,
   "id": "willing-southeast",
   "metadata": {},
   "outputs": [],
   "source": [
    "weights_path = 'weights/'\n",
    "if not os.path.exists(weights_path):\n",
    "    os.makedirs(weights_path)\n",
    "    \n",
    "torch.save(model.state_dict(), weights_path + 'cnn.pth')"
   ]
  }
 ],
 "metadata": {
  "kernelspec": {
   "display_name": "Python 3",
   "language": "python",
   "name": "python3"
  },
  "language_info": {
   "codemirror_mode": {
    "name": "ipython",
    "version": 3
   },
   "file_extension": ".py",
   "mimetype": "text/x-python",
   "name": "python",
   "nbconvert_exporter": "python",
   "pygments_lexer": "ipython3",
   "version": "3.8.8"
  }
 },
 "nbformat": 4,
 "nbformat_minor": 5
}
