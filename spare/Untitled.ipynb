{
 "cells": [
  {
   "cell_type": "code",
   "execution_count": 13,
   "id": "herbal-reflection",
   "metadata": {},
   "outputs": [],
   "source": [
    "from tensorflow.keras import backend as K\n",
    "from tensorflow.keras.layers import Input, Dense\n",
    "from tensorflow.keras.models import Model\n",
    "from tensorflow.keras.layers import Dense, Dropout, Reshape, Permute\n",
    "from tensorflow.keras.layers import Convolution2D\n",
    "from tensorflow.keras.layers import MaxPooling2D, ZeroPadding2D\n",
    "from tensorflow.keras.layers import BatchNormalization\n",
    "from tensorflow.keras.layers import ELU\n",
    "from tensorflow.keras.layers import GRU\n",
    "import tensorflow as tf"
   ]
  },
  {
   "cell_type": "code",
   "execution_count": 21,
   "id": "quality-convertible",
   "metadata": {},
   "outputs": [],
   "source": [
    "channel_axis = 3\n",
    "freq_axis = 1\n",
    "time_axis = 2\n",
    "\n",
    "melgram_input = Input(shape=(96, 1336, 2))"
   ]
  },
  {
   "cell_type": "code",
   "execution_count": 27,
   "id": "least-vocabulary",
   "metadata": {
    "scrolled": false
   },
   "outputs": [
    {
     "name": "stdout",
     "output_type": "stream",
     "text": [
      "Model: \"functional_21\"\n",
      "_________________________________________________________________\n",
      "Layer (type)                 Output Shape              Param #   \n",
      "=================================================================\n",
      "input_3 (InputLayer)         [(None, 96, 1336, 2)]     0         \n",
      "_________________________________________________________________\n",
      "zero_padding2d_16 (ZeroPaddi (None, 96, 1410, 2)       0         \n",
      "_________________________________________________________________\n",
      "bn_0_freq (BatchNormalizatio (None, 96, 1410, 2)       384       \n",
      "_________________________________________________________________\n",
      "conv1 (Conv2D)               (None, 32, 470, 64)       1216      \n",
      "_________________________________________________________________\n",
      "bn1 (BatchNormalization)     (None, 32, 470, 64)       256       \n",
      "_________________________________________________________________\n",
      "elu_41 (ELU)                 (None, 32, 470, 64)       0         \n",
      "_________________________________________________________________\n",
      "pool1 (MaxPooling2D)         (None, 16, 235, 64)       0         \n",
      "_________________________________________________________________\n",
      "dropout1 (Dropout)           (None, 16, 235, 64)       0         \n",
      "_________________________________________________________________\n",
      "conv2 (Conv2D)               (None, 6, 79, 128)        73856     \n",
      "_________________________________________________________________\n",
      "bn2 (BatchNormalization)     (None, 6, 79, 128)        512       \n",
      "_________________________________________________________________\n",
      "elu_42 (ELU)                 (None, 6, 79, 128)        0         \n",
      "_________________________________________________________________\n",
      "pool2 (MaxPooling2D)         (None, 2, 26, 128)        0         \n",
      "_________________________________________________________________\n",
      "dropout2 (Dropout)           (None, 2, 26, 128)        0         \n",
      "_________________________________________________________________\n",
      "conv3 (Conv2D)               (None, 1, 9, 128)         147584    \n",
      "_________________________________________________________________\n",
      "bn3 (BatchNormalization)     (None, 1, 9, 128)         512       \n",
      "_________________________________________________________________\n",
      "elu_43 (ELU)                 (None, 1, 9, 128)         0         \n",
      "_________________________________________________________________\n",
      "dropout3 (Dropout)           (None, 1, 9, 128)         0         \n",
      "_________________________________________________________________\n",
      "conv4 (Conv2D)               (None, 1, 3, 128)         147584    \n",
      "_________________________________________________________________\n",
      "bn4 (BatchNormalization)     (None, 1, 3, 128)         512       \n",
      "_________________________________________________________________\n",
      "elu_44 (ELU)                 (None, 1, 3, 128)         0         \n",
      "_________________________________________________________________\n",
      "dropout4 (Dropout)           (None, 1, 3, 128)         0         \n",
      "_________________________________________________________________\n",
      "reshape_3 (Reshape)          (None, 3, 128)            0         \n",
      "_________________________________________________________________\n",
      "gru (GRU)                    (None, 32)                15552     \n",
      "=================================================================\n",
      "Total params: 387,968\n",
      "Trainable params: 386,880\n",
      "Non-trainable params: 1,088\n",
      "_________________________________________________________________\n"
     ]
    }
   ],
   "source": [
    "x = ZeroPadding2D(padding=(0, 37))(melgram_input)\n",
    "x = BatchNormalization(axis=freq_axis, name='bn_0_freq')(x)\n",
    "\n",
    "# Conv block 1\n",
    "x = Convolution2D(64, 3, 3, padding='same', name='conv1')(x)\n",
    "x = BatchNormalization(axis=channel_axis, name='bn1')(x)\n",
    "x = ELU()(x)\n",
    "x = MaxPooling2D(pool_size=(2, 2), strides=(2, 2), name='pool1')(x)\n",
    "x = Dropout(0.1, name='dropout1')(x)\n",
    "\n",
    "# Conv block 2\n",
    "x = Convolution2D(128, 3, 3, padding='same', name='conv2')(x)\n",
    "x = BatchNormalization(axis=channel_axis,name='bn2')(x)\n",
    "x = ELU()(x)\n",
    "x = MaxPooling2D(pool_size=(3, 3), strides=(3, 3), name='pool2')(x)\n",
    "x = Dropout(0.1, name='dropout2')(x)\n",
    "\n",
    "# Conv block 3\n",
    "x = Convolution2D(128, 3, 3, padding='same', name='conv3')(x)\n",
    "x = BatchNormalization(axis=channel_axis, name='bn3')(x)\n",
    "x = ELU()(x)\n",
    "# x = MaxPooling2D(pool_size=(4, 4), strides=(4, 4), name='pool3')(x)\n",
    "x = Dropout(0.1, name='dropout3')(x)\n",
    "\n",
    "# # Conv block 4\n",
    "x = Convolution2D(128, 3, 3, padding='same', name='conv4')(x)\n",
    "x = BatchNormalization(axis=channel_axis, name='bn4')(x)\n",
    "x = ELU()(x)\n",
    "# x = MaxPooling2D(pool_size=(4, 4), strides=(4, 4), name='pool4')(x)\n",
    "x = Dropout(0.1, name='dropout4')(x)\n",
    "\n",
    "x = Reshape((-1, 128))(x)\n",
    "x = GRU(32)(x)\n",
    "\n",
    "model = tf.keras.Model(inputs=melgram_input, outputs=x)\n",
    "model.summary()"
   ]
  }
 ],
 "metadata": {
  "kernelspec": {
   "display_name": "Python 3",
   "language": "python",
   "name": "python3"
  },
  "language_info": {
   "codemirror_mode": {
    "name": "ipython",
    "version": 3
   },
   "file_extension": ".py",
   "mimetype": "text/x-python",
   "name": "python",
   "nbconvert_exporter": "python",
   "pygments_lexer": "ipython3",
   "version": "3.8.8"
  }
 },
 "nbformat": 4,
 "nbformat_minor": 5
}
